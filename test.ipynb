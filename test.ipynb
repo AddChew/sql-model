{
 "cells": [
  {
   "cell_type": "code",
   "execution_count": 1,
   "metadata": {},
   "outputs": [],
   "source": [
    "import pandas as pd\n",
    "\n",
    "df = pd.DataFrame({\n",
    "    \"acctNo\": [\"123\", \"123\", \"123\", \"456\", \"789\", \"789\"],\n",
    "    \"story\": [\"connected_persons\", \"connected_persons\", \"board_resolutions\", \n",
    "              \"connected_persons\", \"connected_persons\", \"board_resolutions\"],\n",
    "    \"message\": [\"message A\", \"message B\", \"message C\", \"message A\", \"message B\", \"message C\"],\n",
    "    \"risk\": [\"low risk\", \"low risk\", \"high risk\", \"low risk\", \"low risk\", \"high risk\"],\n",
    "})\n",
    "df_cifs = pd.DataFrame({\n",
    "    \"cif\": [\"abc\", \"def\", \"ghi\", \"jkl\"],\n",
    "    \"acctNo\": [\"123\", \"456\", \"789\", \"1011\"]\n",
    "})\n",
    "df_unused = pd.DataFrame({\n",
    "    \"acctNo\": [\"123\", \"456\", \"789\", \"1011\"],\n",
    "    \"unused\": [\"unused 1\", \"unused 2\", \"unused 3\", \"unused4\"], \n",
    "})\n",
    "# TODO: 2 cases, 1 is no text chunk extracted, 2 is no restrict text, can only tell from unused, both should be high risk"
   ]
  },
  {
   "cell_type": "code",
   "execution_count": 2,
   "metadata": {},
   "outputs": [
    {
     "data": {
      "text/html": [
       "<div>\n",
       "<style scoped>\n",
       "    .dataframe tbody tr th:only-of-type {\n",
       "        vertical-align: middle;\n",
       "    }\n",
       "\n",
       "    .dataframe tbody tr th {\n",
       "        vertical-align: top;\n",
       "    }\n",
       "\n",
       "    .dataframe thead tr th {\n",
       "        text-align: left;\n",
       "    }\n",
       "\n",
       "    .dataframe thead tr:last-of-type th {\n",
       "        text-align: right;\n",
       "    }\n",
       "</style>\n",
       "<table border=\"1\" class=\"dataframe\">\n",
       "  <thead>\n",
       "    <tr>\n",
       "      <th>story</th>\n",
       "      <th>board_resolutions</th>\n",
       "      <th>connected_persons</th>\n",
       "    </tr>\n",
       "    <tr>\n",
       "      <th>risk</th>\n",
       "      <th>warnings</th>\n",
       "      <th>warnings</th>\n",
       "    </tr>\n",
       "    <tr>\n",
       "      <th>acctNo</th>\n",
       "      <th></th>\n",
       "      <th></th>\n",
       "    </tr>\n",
       "  </thead>\n",
       "  <tbody>\n",
       "    <tr>\n",
       "      <th>123</th>\n",
       "      <td>message C</td>\n",
       "      <td>message A\\n\\nmessage B</td>\n",
       "    </tr>\n",
       "    <tr>\n",
       "      <th>456</th>\n",
       "      <td>NaN</td>\n",
       "      <td>message A</td>\n",
       "    </tr>\n",
       "    <tr>\n",
       "      <th>789</th>\n",
       "      <td>message C</td>\n",
       "      <td>message B</td>\n",
       "    </tr>\n",
       "  </tbody>\n",
       "</table>\n",
       "</div>"
      ],
      "text/plain": [
       "story  board_resolutions       connected_persons\n",
       "risk            warnings                warnings\n",
       "acctNo                                          \n",
       "123            message C  message A\\n\\nmessage B\n",
       "456                  NaN               message A\n",
       "789            message C               message B"
      ]
     },
     "execution_count": 2,
     "metadata": {},
     "output_type": "execute_result"
    }
   ],
   "source": [
    "df_messages = df[[\"acctNo\", \"story\", \"message\"]]\n",
    "df_messages[\"risk\"] = \"warnings\"\n",
    "df_messages = df_messages.pivot_table(\n",
    "    index = [\"acctNo\"], columns = [\"story\", \"risk\"], \n",
    "    values = [\"message\"], aggfunc = lambda x: \"\\n\\n\".join(x)\n",
    "    )[\"message\"]\n",
    "df_messages"
   ]
  },
  {
   "cell_type": "code",
   "execution_count": 3,
   "metadata": {},
   "outputs": [
    {
     "data": {
      "text/html": [
       "<div>\n",
       "<style scoped>\n",
       "    .dataframe tbody tr th:only-of-type {\n",
       "        vertical-align: middle;\n",
       "    }\n",
       "\n",
       "    .dataframe tbody tr th {\n",
       "        vertical-align: top;\n",
       "    }\n",
       "\n",
       "    .dataframe thead tr th {\n",
       "        text-align: left;\n",
       "    }\n",
       "\n",
       "    .dataframe thead tr:last-of-type th {\n",
       "        text-align: right;\n",
       "    }\n",
       "</style>\n",
       "<table border=\"1\" class=\"dataframe\">\n",
       "  <thead>\n",
       "    <tr>\n",
       "      <th>story</th>\n",
       "      <th colspan=\"2\" halign=\"left\">board_resolutions</th>\n",
       "      <th colspan=\"2\" halign=\"left\">connected_persons</th>\n",
       "    </tr>\n",
       "    <tr>\n",
       "      <th>risk</th>\n",
       "      <th>high risk</th>\n",
       "      <th>low risk</th>\n",
       "      <th>high risk</th>\n",
       "      <th>low risk</th>\n",
       "    </tr>\n",
       "    <tr>\n",
       "      <th>acctNo</th>\n",
       "      <th></th>\n",
       "      <th></th>\n",
       "      <th></th>\n",
       "      <th></th>\n",
       "    </tr>\n",
       "  </thead>\n",
       "  <tbody>\n",
       "    <tr>\n",
       "      <th>123</th>\n",
       "      <td>1</td>\n",
       "      <td>0</td>\n",
       "      <td>0</td>\n",
       "      <td>2</td>\n",
       "    </tr>\n",
       "    <tr>\n",
       "      <th>456</th>\n",
       "      <td>0</td>\n",
       "      <td>0</td>\n",
       "      <td>0</td>\n",
       "      <td>1</td>\n",
       "    </tr>\n",
       "    <tr>\n",
       "      <th>789</th>\n",
       "      <td>1</td>\n",
       "      <td>0</td>\n",
       "      <td>0</td>\n",
       "      <td>1</td>\n",
       "    </tr>\n",
       "  </tbody>\n",
       "</table>\n",
       "</div>"
      ],
      "text/plain": [
       "story  board_resolutions          connected_persons         \n",
       "risk           high risk low risk         high risk low risk\n",
       "acctNo                                                      \n",
       "123                    1        0                 0        2\n",
       "456                    0        0                 0        1\n",
       "789                    1        0                 0        1"
      ]
     },
     "execution_count": 3,
     "metadata": {},
     "output_type": "execute_result"
    }
   ],
   "source": [
    "df_counts = pd.crosstab(index = [df.acctNo], columns = [df.story, df.risk], dropna = False)\n",
    "df_counts"
   ]
  },
  {
   "cell_type": "code",
   "execution_count": 4,
   "metadata": {},
   "outputs": [
    {
     "data": {
      "text/html": [
       "<div>\n",
       "<style scoped>\n",
       "    .dataframe tbody tr th:only-of-type {\n",
       "        vertical-align: middle;\n",
       "    }\n",
       "\n",
       "    .dataframe tbody tr th {\n",
       "        vertical-align: top;\n",
       "    }\n",
       "\n",
       "    .dataframe thead tr th {\n",
       "        text-align: left;\n",
       "    }\n",
       "\n",
       "    .dataframe thead tr:last-of-type th {\n",
       "        text-align: right;\n",
       "    }\n",
       "</style>\n",
       "<table border=\"1\" class=\"dataframe\">\n",
       "  <thead>\n",
       "    <tr>\n",
       "      <th>story</th>\n",
       "      <th colspan=\"2\" halign=\"left\">board_resolutions</th>\n",
       "      <th colspan=\"2\" halign=\"left\">connected_persons</th>\n",
       "      <th>board_resolutions</th>\n",
       "      <th>connected_persons</th>\n",
       "    </tr>\n",
       "    <tr>\n",
       "      <th>risk</th>\n",
       "      <th>high risk</th>\n",
       "      <th>low risk</th>\n",
       "      <th>high risk</th>\n",
       "      <th>low risk</th>\n",
       "      <th>warnings</th>\n",
       "      <th>warnings</th>\n",
       "    </tr>\n",
       "    <tr>\n",
       "      <th>acctNo</th>\n",
       "      <th></th>\n",
       "      <th></th>\n",
       "      <th></th>\n",
       "      <th></th>\n",
       "      <th></th>\n",
       "      <th></th>\n",
       "    </tr>\n",
       "  </thead>\n",
       "  <tbody>\n",
       "    <tr>\n",
       "      <th>123</th>\n",
       "      <td>1</td>\n",
       "      <td>0</td>\n",
       "      <td>0</td>\n",
       "      <td>2</td>\n",
       "      <td>message C</td>\n",
       "      <td>message A\\n\\nmessage B</td>\n",
       "    </tr>\n",
       "    <tr>\n",
       "      <th>456</th>\n",
       "      <td>0</td>\n",
       "      <td>0</td>\n",
       "      <td>0</td>\n",
       "      <td>1</td>\n",
       "      <td>NaN</td>\n",
       "      <td>message A</td>\n",
       "    </tr>\n",
       "    <tr>\n",
       "      <th>789</th>\n",
       "      <td>1</td>\n",
       "      <td>0</td>\n",
       "      <td>0</td>\n",
       "      <td>1</td>\n",
       "      <td>message C</td>\n",
       "      <td>message B</td>\n",
       "    </tr>\n",
       "  </tbody>\n",
       "</table>\n",
       "</div>"
      ],
      "text/plain": [
       "story  board_resolutions          connected_persons           \\\n",
       "risk           high risk low risk         high risk low risk   \n",
       "acctNo                                                         \n",
       "123                    1        0                 0        2   \n",
       "456                    0        0                 0        1   \n",
       "789                    1        0                 0        1   \n",
       "\n",
       "story  board_resolutions       connected_persons  \n",
       "risk            warnings                warnings  \n",
       "acctNo                                            \n",
       "123            message C  message A\\n\\nmessage B  \n",
       "456                  NaN               message A  \n",
       "789            message C               message B  "
      ]
     },
     "execution_count": 4,
     "metadata": {},
     "output_type": "execute_result"
    }
   ],
   "source": [
    "out = df_counts.merge(df_messages, on = \"acctNo\", how = \"left\")\n",
    "out"
   ]
  },
  {
   "cell_type": "code",
   "execution_count": 5,
   "metadata": {},
   "outputs": [
    {
     "name": "stderr",
     "output_type": "stream",
     "text": [
      "/home/addison/anaconda3/envs/top2vec/lib/python3.7/site-packages/pandas/core/frame.py:9203: FutureWarning: merging between different levels is deprecated and will be removed in a future version. (1 levels on the left,2 on the right)\n",
      "  validate=validate,\n"
     ]
    }
   ],
   "source": [
    "out = df_cifs.merge(out[out.columns.sort_values()], on = \"acctNo\", how = \"left\").merge(df_unused, on = \"acctNo\", how = \"left\")"
   ]
  },
  {
   "cell_type": "code",
   "execution_count": 6,
   "metadata": {},
   "outputs": [],
   "source": [
    "na_mapping = {}\n",
    "for col in out.columns:\n",
    "    if isinstance(col, tuple):\n",
    "        if \"high risk\" in col:\n",
    "            na_mapping[col] = 1\n",
    "        if \"low risk\" in col:\n",
    "            na_mapping[col] = 0\n",
    "        if \"warnings\" in col:\n",
    "            na_mapping[col] = \"Message D\" "
   ]
  },
  {
   "cell_type": "code",
   "execution_count": 7,
   "metadata": {},
   "outputs": [],
   "source": [
    "out = out.fillna(value = na_mapping)"
   ]
  },
  {
   "cell_type": "code",
   "execution_count": 8,
   "metadata": {},
   "outputs": [],
   "source": [
    "from openpyxl import Workbook\n",
    "from openpyxl.utils.dataframe import dataframe_to_rows"
   ]
  },
  {
   "cell_type": "code",
   "execution_count": 9,
   "metadata": {},
   "outputs": [],
   "source": [
    "wb = Workbook()\n",
    "ws = wb.active\n",
    "\n",
    "for idx, row in enumerate(dataframe_to_rows(out, index = False)):\n",
    "    if idx == 0:\n",
    "        headers = [e if isinstance(e, tuple) else (None, e) for e in row]\n",
    "        headers = list(zip(*headers))\n",
    "        for header in headers:\n",
    "            ws.append(header)\n",
    "        continue    \n",
    "    ws.append(row)\n",
    "\n",
    "\n",
    "for cell in ws[\"A\"] + ws[\"B\"] + ws[1] + ws[2]:\n",
    "    cell.style = \"Pandas\"\n",
    "\n",
    "ws.merge_cells('C1:E1')  \n",
    "ws.merge_cells('F1:H1') "
   ]
  },
  {
   "cell_type": "code",
   "execution_count": 10,
   "metadata": {},
   "outputs": [],
   "source": [
    "wb.save(\"test.xlsx\")"
   ]
  },
  {
   "cell_type": "code",
   "execution_count": 27,
   "metadata": {},
   "outputs": [],
   "source": [
    "from inspect import getmembers, isfunction\n",
    "\n",
    "class Category:\n",
    "    category_one = \"category_one\"\n",
    "    category_two = \"category_two\"\n",
    "\n",
    "    def values():\n",
    "        values = []\n",
    "        for (name, value) in getmembers(Category):\n",
    "            if not name.startswith(\"_\"):\n",
    "                if not isfunction(value): \n",
    "                    values.append(value)\n",
    "        return values\n"
   ]
  },
  {
   "cell_type": "code",
   "execution_count": 28,
   "metadata": {},
   "outputs": [
    {
     "name": "stdout",
     "output_type": "stream",
     "text": [
      "['category_one', 'category_two']\n"
     ]
    }
   ],
   "source": [
    "print(Category.values())"
   ]
  }
 ],
 "metadata": {
  "kernelspec": {
   "display_name": "top2vec",
   "language": "python",
   "name": "python3"
  },
  "language_info": {
   "codemirror_mode": {
    "name": "ipython",
    "version": 3
   },
   "file_extension": ".py",
   "mimetype": "text/x-python",
   "name": "python",
   "nbconvert_exporter": "python",
   "pygments_lexer": "ipython3",
   "version": "3.7.11"
  }
 },
 "nbformat": 4,
 "nbformat_minor": 2
}
